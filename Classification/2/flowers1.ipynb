{
 "cells": [
  {
   "cell_type": "code",
   "execution_count": 1,
   "metadata": {},
   "outputs": [
    {
     "name": "stderr",
     "output_type": "stream",
     "text": [
      "Using TensorFlow backend.\n"
     ]
    }
   ],
   "source": [
    "import os\n",
    "import numpy as np\n",
    "from PIL import Image\n",
    "import cv2\n",
    "from keras import backend as K\n",
    "from keras.models import Sequential\n",
    "from keras.layers import Dense\n",
    "from keras.optimizers import Adam,SGD,Adagrad,Adadelta,RMSprop\n",
    "from keras.utils import to_categorical\n",
    "\n",
    "# specifically for cnn\n",
    "from keras.layers import Dropout, Flatten,Activation\n",
    "from keras.layers import Conv2D, MaxPooling2D, BatchNormalization\n",
    " \n",
    "import tensorflow as tf\n",
    "from keras.preprocessing.image import ImageDataGenerator\n"
   ]
  },
  {
   "cell_type": "code",
   "execution_count": 4,
   "metadata": {},
   "outputs": [],
   "source": [
    "dir = 'd:\\\\Java\\\\Datasets\\\\Jano\\\\mix1\\\\training'"
   ]
  },
  {
   "cell_type": "code",
   "execution_count": 5,
   "metadata": {},
   "outputs": [],
   "source": [
    "categories=['bikes', 'flowers', 'people']\n",
    "\n",
    "features=[]\n",
    "for i in categories:\n",
    "    path=os.path.join(dir,i)\n",
    "    num_classes=categories.index(i)\n",
    "    for img in os.listdir(path):\n",
    "        if img.endswith('.jpg'):\n",
    "            \n",
    "            img_array=cv2.imread(os.path.join(path,img),cv2.IMREAD_COLOR)\n",
    "            img_array=cv2.resize(img_array,(150,150))\n",
    "            features.append([img_array,num_classes])\n",
    "X=[]\n",
    "y=[]\n",
    "for i,j in features:\n",
    "    X.append(i)\n",
    "    y.append(j)"
   ]
  },
  {
   "cell_type": "code",
   "execution_count": 7,
   "metadata": {},
   "outputs": [],
   "source": [
    "X=np.array(X).reshape(-1,150,150,3)/255.0\n",
    "images_train = X\n",
    "labels_train = y"
   ]
  },
  {
   "cell_type": "code",
   "execution_count": 9,
   "metadata": {},
   "outputs": [
    {
     "data": {
      "text/plain": [
       "array([[1., 0., 0.],\n",
       "       [1., 0., 0.],\n",
       "       [1., 0., 0.],\n",
       "       [1., 0., 0.],\n",
       "       [1., 0., 0.],\n",
       "       [1., 0., 0.],\n",
       "       [1., 0., 0.],\n",
       "       [1., 0., 0.],\n",
       "       [1., 0., 0.],\n",
       "       [1., 0., 0.],\n",
       "       [1., 0., 0.],\n",
       "       [0., 1., 0.],\n",
       "       [0., 1., 0.],\n",
       "       [0., 1., 0.],\n",
       "       [0., 1., 0.],\n",
       "       [0., 1., 0.],\n",
       "       [0., 1., 0.],\n",
       "       [0., 1., 0.],\n",
       "       [0., 1., 0.],\n",
       "       [0., 1., 0.],\n",
       "       [0., 1., 0.],\n",
       "       [0., 1., 0.],\n",
       "       [0., 1., 0.],\n",
       "       [0., 0., 1.],\n",
       "       [0., 0., 1.],\n",
       "       [0., 0., 1.],\n",
       "       [0., 0., 1.],\n",
       "       [0., 0., 1.],\n",
       "       [0., 0., 1.],\n",
       "       [0., 0., 1.],\n",
       "       [0., 0., 1.],\n",
       "       [0., 0., 1.],\n",
       "       [0., 0., 1.],\n",
       "       [0., 0., 1.],\n",
       "       [0., 0., 1.],\n",
       "       [0., 0., 1.],\n",
       "       [0., 0., 1.]], dtype=float32)"
      ]
     },
     "execution_count": 9,
     "metadata": {},
     "output_type": "execute_result"
    }
   ],
   "source": [
    "import tensorflow as tf\n",
    "#from tensorflow.keras.utils import to_categorical\n",
    "#y=to_categorical(y)\n",
    "labels_train = tf.keras.utils.to_categorical(labels_train)\n",
    "labels_train"
   ]
  },
  {
   "cell_type": "code",
   "execution_count": 10,
   "metadata": {},
   "outputs": [],
   "source": [
    "from sklearn.model_selection import train_test_split\n",
    "train_data,validation_data,train_labels,validation_labels=train_test_split(images_train,labels_train,test_size=0.2,random_state=12)\n"
   ]
  },
  {
   "cell_type": "code",
   "execution_count": 13,
   "metadata": {},
   "outputs": [],
   "source": [
    "model = Sequential()\n",
    "\n",
    "model.add(Conv2D(32, (5, 5), input_shape=(150,150,3)))\n",
    "model.add(Activation(\"relu\"))\n",
    "model.add(MaxPooling2D(2, 2))\n",
    "\n",
    "model.add(Conv2D(64, (3, 3)))\n",
    "model.add(Activation(\"relu\"))\n",
    "model.add(MaxPooling2D(2, 2))\n",
    "\n",
    "model.add(Flatten())\n",
    "model.add(Dense(3))"
   ]
  },
  {
   "cell_type": "code",
   "execution_count": 14,
   "metadata": {},
   "outputs": [],
   "source": [
    "epochs=10\n",
    "\n",
    "from keras.callbacks import ReduceLROnPlateau\n",
    "red_lr= ReduceLROnPlateau(monitor='val_acc',patience=3,verbose=1,factor=0.1)"
   ]
  },
  {
   "cell_type": "code",
   "execution_count": 15,
   "metadata": {},
   "outputs": [
    {
     "name": "stdout",
     "output_type": "stream",
     "text": [
      "Model: \"sequential_1\"\n",
      "_________________________________________________________________\n",
      "Layer (type)                 Output Shape              Param #   \n",
      "=================================================================\n",
      "conv2d_1 (Conv2D)            (None, 146, 146, 32)      2432      \n",
      "_________________________________________________________________\n",
      "activation_1 (Activation)    (None, 146, 146, 32)      0         \n",
      "_________________________________________________________________\n",
      "max_pooling2d_1 (MaxPooling2 (None, 73, 73, 32)        0         \n",
      "_________________________________________________________________\n",
      "conv2d_2 (Conv2D)            (None, 71, 71, 64)        18496     \n",
      "_________________________________________________________________\n",
      "activation_2 (Activation)    (None, 71, 71, 64)        0         \n",
      "_________________________________________________________________\n",
      "max_pooling2d_2 (MaxPooling2 (None, 35, 35, 64)        0         \n",
      "_________________________________________________________________\n",
      "flatten_1 (Flatten)          (None, 78400)             0         \n",
      "_________________________________________________________________\n",
      "dense_1 (Dense)              (None, 3)                 235203    \n",
      "=================================================================\n",
      "Total params: 256,131\n",
      "Trainable params: 256,131\n",
      "Non-trainable params: 0\n",
      "_________________________________________________________________\n"
     ]
    }
   ],
   "source": [
    "model.compile(optimizer=Adam(lr=0.001),loss='categorical_crossentropy',metrics=['accuracy'])\n",
    "model.summary()"
   ]
  },
  {
   "cell_type": "code",
   "execution_count": 20,
   "metadata": {},
   "outputs": [],
   "source": [
    "datagen = ImageDataGenerator(\n",
    "        featurewise_center=False,  # set input mean to 0 over the dataset\n",
    "        samplewise_center=False,  # set each sample mean to 0\n",
    "        featurewise_std_normalization=False,  # divide inputs by std of the dataset\n",
    "        samplewise_std_normalization=False,  # divide each input by its std\n",
    "        zca_whitening=False,  # apply ZCA whitening\n",
    "        rotation_range=10,  # randomly rotate images in the range (degrees, 0 to 180)\n",
    "        zoom_range = 0.1, # Randomly zoom image \n",
    "        width_shift_range=0.2,  # randomly shift images horizontally (fraction of total width)\n",
    "        height_shift_range=0.2,  # randomly shift images vertically (fraction of total height)\n",
    "        horizontal_flip=True,  # randomly flip images\n",
    "        vertical_flip=False  # randomly flip images\n",
    ")\n",
    "\n",
    "\n",
    "datagen.fit(train_data)"
   ]
  },
  {
   "cell_type": "code",
   "execution_count": 21,
   "metadata": {},
   "outputs": [
    {
     "name": "stdout",
     "output_type": "stream",
     "text": [
      "Epoch 1/20\n",
      "4/4 [==============================] - 1s 204ms/step - loss: 5.3829 - accuracy: 0.4138 - val_loss: 2.0148 - val_accuracy: 0.3750\n",
      "Epoch 2/20\n",
      "4/4 [==============================] - 1s 205ms/step - loss: 5.6247 - accuracy: 0.4138 - val_loss: 2.0148 - val_accuracy: 0.3750\n",
      "Epoch 3/20\n",
      "4/4 [==============================] - 1s 214ms/step - loss: 5.6247 - accuracy: 0.3793 - val_loss: 2.0148 - val_accuracy: 0.3750\n",
      "Epoch 4/20\n",
      "4/4 [==============================] - 1s 207ms/step - loss: 5.3829 - accuracy: 0.3103 - val_loss: 2.0148 - val_accuracy: 0.3750\n",
      "Epoch 5/20\n",
      "4/4 [==============================] - 1s 209ms/step - loss: 5.3829 - accuracy: 0.4138 - val_loss: 2.0148 - val_accuracy: 0.3750\n",
      "Epoch 6/20\n",
      "4/4 [==============================] - 1s 198ms/step - loss: 5.3829 - accuracy: 0.4138 - val_loss: 2.0148 - val_accuracy: 0.3750\n",
      "Epoch 7/20\n",
      "4/4 [==============================] - 1s 203ms/step - loss: 5.3829 - accuracy: 0.3793 - val_loss: 2.0148 - val_accuracy: 0.3750\n",
      "Epoch 8/20\n",
      "4/4 [==============================] - 1s 206ms/step - loss: 5.3829 - accuracy: 0.3793 - val_loss: 2.0148 - val_accuracy: 0.3750\n",
      "Epoch 9/20\n",
      "4/4 [==============================] - 1s 207ms/step - loss: 5.3829 - accuracy: 0.3793 - val_loss: 2.0148 - val_accuracy: 0.3750\n",
      "Epoch 10/20\n",
      "4/4 [==============================] - 1s 208ms/step - loss: 5.6247 - accuracy: 0.3103 - val_loss: 2.0148 - val_accuracy: 0.3750\n",
      "Epoch 11/20\n",
      "4/4 [==============================] - 1s 201ms/step - loss: 5.1411 - accuracy: 0.4138 - val_loss: 2.0148 - val_accuracy: 0.3750\n",
      "Epoch 12/20\n",
      "4/4 [==============================] - 1s 212ms/step - loss: 5.8664 - accuracy: 0.3448 - val_loss: 2.0148 - val_accuracy: 0.3750\n",
      "Epoch 13/20\n",
      "4/4 [==============================] - 1s 203ms/step - loss: 5.6247 - accuracy: 0.3448 - val_loss: 2.0148 - val_accuracy: 0.3750\n",
      "Epoch 14/20\n",
      "4/4 [==============================] - 1s 206ms/step - loss: 5.1411 - accuracy: 0.3793 - val_loss: 2.0148 - val_accuracy: 0.3750\n",
      "Epoch 15/20\n",
      "4/4 [==============================] - 1s 240ms/step - loss: 5.3829 - accuracy: 0.3793 - val_loss: 2.0148 - val_accuracy: 0.3750\n",
      "Epoch 16/20\n",
      "4/4 [==============================] - 1s 204ms/step - loss: 5.1411 - accuracy: 0.3793 - val_loss: 2.0148 - val_accuracy: 0.3750\n",
      "Epoch 17/20\n",
      "4/4 [==============================] - 1s 208ms/step - loss: 5.3829 - accuracy: 0.4138 - val_loss: 2.0148 - val_accuracy: 0.3750\n",
      "Epoch 18/20\n",
      "4/4 [==============================] - 1s 198ms/step - loss: 5.3829 - accuracy: 0.3793 - val_loss: 2.0148 - val_accuracy: 0.3750\n",
      "Epoch 19/20\n",
      "4/4 [==============================] - 1s 212ms/step - loss: 5.3829 - accuracy: 0.3448 - val_loss: 2.0148 - val_accuracy: 0.3750\n",
      "Epoch 20/20\n",
      "4/4 [==============================] - 1s 203ms/step - loss: 5.6247 - accuracy: 0.3793 - val_loss: 2.0148 - val_accuracy: 0.3750\n"
     ]
    }
   ],
   "source": [
    "History = model.fit_generator(datagen.flow(train_data,train_labels, batch_size=8),\n",
    "                              epochs = 20, validation_data = (validation_data,validation_labels),\n",
    "                              verbose = 1)"
   ]
  },
  {
   "cell_type": "code",
   "execution_count": 27,
   "metadata": {},
   "outputs": [
    {
     "name": "stdout",
     "output_type": "stream",
     "text": [
      "Found 14034 images belonging to 6 classes.\n",
      "Found 3000 images belonging to 6 classes.\n",
      "{'buildings': 0, 'forest': 1, 'glacier': 2, 'mountain': 3, 'sea': 4, 'street': 5}\n",
      "Train for 3 steps, validate for 1000 steps\n",
      "Epoch 1/10\n",
      "3/3 [==============================] - 19s 6s/step - loss: 4.3823 - accuracy: 0.1111 - val_loss: 8.7951 - val_accuracy: 0.1360\n",
      "Epoch 2/10\n",
      "3/3 [==============================] - 18s 6s/step - loss: 8.9545 - accuracy: 0.1111 - val_loss: 8.2095 - val_accuracy: 0.1630\n",
      "Epoch 3/10\n",
      "3/3 [==============================] - 17s 6s/step - loss: 8.9545 - accuracy: 0.2222 - val_loss: 8.2095 - val_accuracy: 0.1710\n",
      "Epoch 4/10\n",
      "3/3 [==============================] - 17s 6s/step - loss: 10.7454 - accuracy: 0.2222 - val_loss: 8.2095 - val_accuracy: 0.1717\n",
      "Epoch 5/10\n",
      "3/3 [==============================] - 17s 6s/step - loss: 8.9545 - accuracy: 0.2222 - val_loss: 8.2095 - val_accuracy: 0.1720\n",
      "Epoch 6/10\n",
      "3/3 [==============================] - 17s 6s/step - loss: 10.7454 - accuracy: 0.0000e+00 - val_loss: 8.2095 - val_accuracy: 0.1723\n",
      "Epoch 7/10\n",
      "3/3 [==============================] - 17s 6s/step - loss: 8.9545 - accuracy: 0.2222 - val_loss: 8.2095 - val_accuracy: 0.1723\n",
      "Epoch 8/10\n",
      "3/3 [==============================] - 17s 6s/step - loss: 3.5818 - accuracy: 0.2222 - val_loss: 8.2095 - val_accuracy: 0.1730\n",
      "Epoch 9/10\n",
      "3/3 [==============================] - 19s 6s/step - loss: 7.1636 - accuracy: 0.2222 - val_loss: 8.2095 - val_accuracy: 0.1730\n",
      "Epoch 10/10\n",
      "3/3 [==============================] - 19s 6s/step - loss: 7.1636 - accuracy: 0.3333 - val_loss: 8.2095 - val_accuracy: 0.1733\n"
     ]
    }
   ],
   "source": [
    "train = ImageDataGenerator(rescale=1/255)\n",
    "validation = ImageDataGenerator(rescale=1/255)\n",
    "\n",
    "train_dataset = train.flow_from_directory('d:\\\\Java\\\\Datasets\\\\Jano\\\\mix2\\\\training',target_size=(150,150),batch_size=3)\n",
    "validation_dataset = train.flow_from_directory('d:\\\\Java\\\\Datasets\\\\Jano\\\\mix2\\\\validation',target_size=(150,150),batch_size=3)\n",
    "print(train_dataset.class_indices)\n",
    "\n",
    "model = tf.keras.models.Sequential([tf.keras.layers.Conv2D(16,(3,3), activation='relu',input_shape=(150,150,3)),\n",
    "                                    tf.keras.layers.MaxPool2D(2,2),\n",
    "\n",
    "                                    tf.keras.layers.Conv2D(32,(3,3), activation='relu'),\n",
    "                                    tf.keras.layers.MaxPool2D(2,2),\n",
    "\n",
    "                                    tf.keras.layers.Conv2D(64, (3, 3), activation='relu'),\n",
    "                                    tf.keras.layers.MaxPool2D(2, 2),\n",
    "\n",
    "                                    tf.keras.layers.Flatten(),\n",
    "\n",
    "                                  #  tf.keras.layers.Dense(512,activation=\"relu\"),\n",
    "\n",
    "                                    tf.keras.layers.Dense(6)\n",
    "                                    ])\n",
    "\n",
    "#model.compile(loss='categorical_crossentropy',optimizer=RMSprop(lr=0.001),metrics=['accuracy'])\n",
    "model.compile(optimizer='adam',\n",
    "              loss=tf.keras.losses.CategoricalCrossentropy(),\n",
    "              metrics=['accuracy'])\n",
    "\n",
    "model_fit = model.fit(train_dataset,steps_per_epoch=3, epochs=10,validation_data=validation_dataset)"
   ]
  },
  {
   "cell_type": "code",
   "execution_count": null,
   "metadata": {},
   "outputs": [],
   "source": []
  }
 ],
 "metadata": {
  "kernelspec": {
   "display_name": "Python 3",
   "language": "python",
   "name": "python3"
  },
  "language_info": {
   "codemirror_mode": {
    "name": "ipython",
    "version": 3
   },
   "file_extension": ".py",
   "mimetype": "text/x-python",
   "name": "python",
   "nbconvert_exporter": "python",
   "pygments_lexer": "ipython3",
   "version": "3.7.9"
  }
 },
 "nbformat": 4,
 "nbformat_minor": 4
}
