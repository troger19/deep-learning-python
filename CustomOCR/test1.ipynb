{
 "cells": [
  {
   "cell_type": "markdown",
   "metadata": {},
   "source": [
    "Import all libraries. If they are missing install it using pip"
   ]
  },
  {
   "cell_type": "code",
   "execution_count": 1,
   "metadata": {},
   "outputs": [],
   "source": [
    "# import sys\n",
    "# !{sys.executable} -m pip install pyzbar\n",
    "# !{sys.executable} -m pip install pdf2image\n",
    "\n",
    "import cv2\n",
    "import numpy as np\n",
    "from pyzbar.pyzbar import decode\n",
    "from pdf2image import convert_from_path\n",
    "import pytesseract\n",
    "import json"
   ]
  },
  {
   "cell_type": "code",
   "execution_count": 2,
   "metadata": {},
   "outputs": [],
   "source": [
    "pdf = convert_from_path('..\\\\Datasets\\\\faktury\\\\orange\\\\1.pdf')"
   ]
  },
  {
   "cell_type": "code",
   "execution_count": 3,
   "metadata": {},
   "outputs": [
    {
     "name": "stdout",
     "output_type": "stream",
     "text": [
      "0008K0007KH7V36C0OT9RIGU78F4PJ3OVRQJ45GISAS1S1U1NMNBVNGBA620FEBIADLTBBFJOUTRTU0SUO7J76O8F75G2R7RG7KE7GNKUJFPCEMNJUV5P83SG9G6UIAQPHRLTTHAPKB7CK776GO0C1QUTBSL19PBHRU56QP3DGVR5L3O2U37ETJS3MMDC6FL\n",
      "0\n"
     ]
    }
   ],
   "source": [
    "qrCodePageNumber=-1\n",
    "for pageNumber, page in enumerate(pdf):\n",
    "    extractedPage = decode(page)\n",
    "    if(len(extractedPage)==1):  # nasla prave 1 QR kod\n",
    "        print(extractedPage[0].data.decode('utf-8'))\n",
    "        qrCodePageNumber = pageNumber\n",
    "        break\n",
    "print(qrCodePageNumber)"
   ]
  },
  {
   "cell_type": "code",
   "execution_count": 4,
   "metadata": {},
   "outputs": [
    {
     "name": "stdout",
     "output_type": "stream",
     "text": [
      "Strana 1/2\n",
      "\n",
      "orange Stav účtu\n",
      "\n",
      "Názov a sídlo účastníka: Adresa platiteľa úhrad:\n",
      "Bábel Ján 4 a\n",
      "\n",
      "Klokočová 734 Bábel Ján\n",
      "\n",
      "981 01 Hnúšťa 1 Klokočová 734\n",
      "\n",
      "981 01 Hnúšťa 1\n",
      "\n",
      "Údaje potrebné na úhradu\n",
      "\n",
      " \n",
      "\n",
      "Variabilný symbol: 0296527245 Súmalnalúhradu: 21,19 €\n",
      "Odporúčaný dátum úhrady: 05. 10. 2019\n",
      "Dátum splatnosti: 08. 10. 2019 Preplatok z predchádzajúcich 0,36 €\n",
      "\n",
      "Najneskôr tento deň by mala byť suma pripísaná na účet období k 23. 09. 2019:\n",
      "Orange Slovensko, a. s.\n",
      "\n",
      " \n",
      "\n",
      "Úhradu môžete zrealizovať prostredníctvom zadania prevodného\n",
      "príkazu vo svojej banke alebo cez internet banking.\n",
      "\n",
      "[i] Aloe Tatra banka: TATRAPAY | 22 úhradu Vám vopred ďakujeme.\n",
      "SK29 1100 0000 0026 2800 5850 TATRA BANKA\n",
      "\n",
      "PAY by sguare M\n",
      "[a] SI. sporiteľňa:\n",
      "SKO2 0900 0000 0001 7608 4455 | SPOĽOPAY\n",
      "\n",
      "Prehľad faktúr\n",
      "\n",
      "Číslo faktúry Telefónne číslo Meno používateľa --——\n",
      "\n",
      "2518503655 0239 064 758 © Bábel Ján 21,19 €\n",
      "\n",
      "  \n",
      "\n",
      "Bankové spojenie:\n",
      "\n",
      "  \n",
      "\n",
      " \n",
      "\n",
      " \n",
      "\n",
      " \n",
      "\n",
      " \n",
      "\n",
      " \n",
      "\n",
      " \n",
      "\n",
      "Spolu s DPH 21,19 €\n",
      "\n",
      "Typ služby: [C) Internet\n",
      "\n",
      "IEDU A\n",
      "\n",
      "\" www.orange.sk/mojorange \"m napíšte nám cez orange.sk\n",
      "m Zákaznícka linka 905: 0905 905 905 m predajné miesta\n",
      "(nonstop, prepojenie na operátora 0,05 €/min.)\n",
      "\n",
      "Využite aj ďalšie možnosti, ako získať viac informácií o Vašich faktúrach a našich ponukách:\n",
      "\n",
      " \n",
      "\n",
      "Orange Slovensko, a. s., Metodova 8, 821 08 Bratislava, Slovenská republika, tel. č.: 0905 905 905, fax: +421 2 5851 5851, IČO: 356 97 270, IČ DPH: SK 20 20 31 05 78, DIČ: 20 20 31 05 78,\n",
      "zapísaná v Obchodnom registri Okresného súdu Bratislava I, oddiel: Sa, vložka číslo 1142/B. Bankové spojenie: Tatra banka: SK29 1100 0000 0026 2800 5850, SWIFT / BIC: TATRSKBX.\n",
      "\f",
      "\n"
     ]
    }
   ],
   "source": [
    "data = pytesseract.image_to_string(pdf[qrCodePageNumber], lang='SLK')\n",
    "#print(data)"
   ]
  },
  {
   "cell_type": "code",
   "execution_count": 5,
   "metadata": {},
   "outputs": [
    {
     "name": "stdout",
     "output_type": "stream",
     "text": [
      "['Orange', 'Orange Slovensko, a. s.', 'Metodova 8', '0905 905 905', 'IČO: 356 97 270', 'IČ DPH: SK 20 20 31 05 78', 'DIČ: 20 20 31 05 78', 'SK29 1100 0000 0026 2800 5850']\n"
     ]
    }
   ],
   "source": [
    "with open('templates\\\\orange.json',encoding='utf-8') as f:\n",
    "  template = json.load(f)\n",
    "\n",
    "#print(template['keywords'])"
   ]
  },
  {
   "cell_type": "code",
   "execution_count": 6,
   "metadata": {},
   "outputs": [
    {
     "name": "stdout",
     "output_type": "stream",
     "text": [
      "{'Orange': 2, 'Orange Slovensko, a. s.': 2, 'Metodova 8': 1, '0905 905 905': 2, 'IČO: 356 97 270': 1, 'IČ DPH: SK 20 20 31 05 78': 1, 'DIČ: 20 20 31 05 78': 1, 'SK29 1100 0000 0026 2800 5850': 2}\n",
      "12\n"
     ]
    }
   ],
   "source": [
    "word_freq={}\n",
    "\n",
    "for i, word in enumerate(template['keywords']):\n",
    "    word_freq.update({word: data.count(word)})\n",
    "print(word_freq)\n",
    "print(sum(word_freq.values()))   "
   ]
  },
  {
   "cell_type": "code",
   "execution_count": 19,
   "metadata": {},
   "outputs": [
    {
     "ename": "FileNotFoundError",
     "evalue": "[Errno 2] No such file or directory: 'o2.json'",
     "output_type": "error",
     "traceback": [
      "\u001b[1;31m---------------------------------------------------------------------------\u001b[0m",
      "\u001b[1;31mFileNotFoundError\u001b[0m                         Traceback (most recent call last)",
      "\u001b[1;32m<ipython-input-19-7b95ca4b2c72>\u001b[0m in \u001b[0;36m<module>\u001b[1;34m\u001b[0m\n\u001b[0;32m      1\u001b[0m \u001b[1;32mfrom\u001b[0m \u001b[0mUtils\u001b[0m \u001b[1;32mimport\u001b[0m \u001b[0mfind_template\u001b[0m\u001b[1;33m\u001b[0m\u001b[1;33m\u001b[0m\u001b[0m\n\u001b[1;32m----> 2\u001b[1;33m \u001b[0mfind_template\u001b[0m\u001b[1;33m(\u001b[0m\u001b[0mdata\u001b[0m\u001b[1;33m)\u001b[0m\u001b[1;33m\u001b[0m\u001b[1;33m\u001b[0m\u001b[0m\n\u001b[0m",
      "\u001b[1;32mD:\\Java\\deep-learning-python\\CustomOCR\\Utils.py\u001b[0m in \u001b[0;36mfind_template\u001b[1;34m(data)\u001b[0m\n\u001b[0;32m      5\u001b[0m \u001b[1;32mdef\u001b[0m \u001b[0mfind_template\u001b[0m\u001b[1;33m(\u001b[0m\u001b[0mdata\u001b[0m\u001b[1;33m)\u001b[0m\u001b[1;33m:\u001b[0m\u001b[1;33m\u001b[0m\u001b[1;33m\u001b[0m\u001b[0m\n\u001b[0;32m      6\u001b[0m     \u001b[0mpath\u001b[0m \u001b[1;33m=\u001b[0m \u001b[1;34m'templates'\u001b[0m\u001b[1;33m\u001b[0m\u001b[1;33m\u001b[0m\u001b[0m\n\u001b[1;32m----> 7\u001b[1;33m     \u001b[0mmax\u001b[0m \u001b[1;33m=\u001b[0m \u001b[1;36m0\u001b[0m\u001b[1;33m\u001b[0m\u001b[1;33m\u001b[0m\u001b[0m\n\u001b[0m\u001b[0;32m      8\u001b[0m     \u001b[0mchosen_template\u001b[0m \u001b[1;33m=\u001b[0m \u001b[1;34m''\u001b[0m\u001b[1;33m\u001b[0m\u001b[1;33m\u001b[0m\u001b[0m\n\u001b[0;32m      9\u001b[0m     \u001b[1;32mfor\u001b[0m \u001b[0mfilename\u001b[0m \u001b[1;32min\u001b[0m \u001b[0mos\u001b[0m\u001b[1;33m.\u001b[0m\u001b[0mlistdir\u001b[0m\u001b[1;33m(\u001b[0m\u001b[0mpath\u001b[0m\u001b[1;33m)\u001b[0m\u001b[1;33m:\u001b[0m\u001b[1;33m\u001b[0m\u001b[1;33m\u001b[0m\u001b[0m\n",
      "\u001b[1;31mFileNotFoundError\u001b[0m: [Errno 2] No such file or directory: 'o2.json'"
     ]
    }
   ],
   "source": [
    "from Utils import find_template \n",
    "find_template(data)"
   ]
  },
  {
   "cell_type": "code",
   "execution_count": null,
   "metadata": {},
   "outputs": [],
   "source": []
  }
 ],
 "metadata": {
  "kernelspec": {
   "display_name": "Python 3",
   "language": "python",
   "name": "python3"
  },
  "language_info": {
   "codemirror_mode": {
    "name": "ipython",
    "version": 3
   },
   "file_extension": ".py",
   "mimetype": "text/x-python",
   "name": "python",
   "nbconvert_exporter": "python",
   "pygments_lexer": "ipython3",
   "version": "3.6.8"
  }
 },
 "nbformat": 4,
 "nbformat_minor": 2
}
